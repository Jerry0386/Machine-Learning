{
 "cells": [
  {
   "cell_type": "code",
   "execution_count": 6,
   "id": "5965d851",
   "metadata": {},
   "outputs": [
    {
     "name": "stdout",
     "output_type": "stream",
     "text": [
      "[[110  23]\n",
      " [ 29  52]]\n",
      "              precision    recall  f1-score   support\n",
      "\n",
      "           0       0.79      0.83      0.81       133\n",
      "           1       0.69      0.64      0.67        81\n",
      "\n",
      "    accuracy                           0.76       214\n",
      "   macro avg       0.74      0.73      0.74       214\n",
      "weighted avg       0.75      0.76      0.76       214\n",
      "\n"
     ]
    }
   ],
   "source": [
    "# Import libraries\n",
    "import pandas as pd\n",
    "import seaborn as sns\n",
    "from sklearn.model_selection import train_test_split\n",
    "from sklearn.linear_model import LogisticRegression\n",
    "from sklearn.metrics import classification_report, confusion_matrix\n",
    "\n",
    "# Import dataset\n",
    "df = sns.load_dataset(\"titanic\")\n",
    "df.head()\n",
    "\n",
    "# Remove non-numeric columns\n",
    "df.drop(['pclass', 'sibsp', 'parch', 'fare', 'class', 'who', 'adult_male', 'deck', 'embark_town', 'alive','alone'],axis=1,inplace=True)\n",
    "df.head()\n",
    "\n",
    "# Drop rows containing missing values\n",
    "df.dropna(axis=0, how = 'any', subset = None, inplace = True)\n",
    "df.head()\n",
    "\n",
    "# Convert non-numeric data using one-hot encoding\n",
    "df = pd.get_dummies(df,columns=['sex','embarked'])\n",
    "df.head()\n",
    "\n",
    "# Assign Variables\n",
    "X = df.drop('survived',axis=1)\n",
    "y = df['survived']\n",
    "\n",
    "# Split data into test/train set (70/30 split) and shuffle\n",
    "X_train, X_test, y_train, y_test = train_test_split(X,y, test_size=0.3,shuffle=True)\n",
    "\n",
    "# Assign algorithm\n",
    "model = LogisticRegression()\n",
    "\n",
    "# Link algorithm to X and y variables\n",
    "model.fit(X_train,y_train)\n",
    "\n",
    "# Run algorithm on test data to make predictions\n",
    "model_test = model.predict(X_test)\n",
    "\n",
    "# Evaluate predictions\n",
    "print(confusion_matrix(y_test, model_test))\n",
    "print(classification_report(y_test,model_test))"
   ]
  },
  {
   "cell_type": "code",
   "execution_count": 7,
   "id": "673d5acd",
   "metadata": {},
   "outputs": [
    {
     "name": "stderr",
     "output_type": "stream",
     "text": [
      "C:\\Python\\anaconda3\\Lib\\site-packages\\sklearn\\base.py:464: UserWarning: X does not have valid feature names, but LogisticRegression was fitted with feature names\n",
      "  warnings.warn(\n"
     ]
    },
    {
     "data": {
      "text/plain": [
       "array([0], dtype=int64)"
      ]
     },
     "execution_count": 7,
     "metadata": {},
     "output_type": "execute_result"
    }
   ],
   "source": [
    "# Data point to predict \n",
    "passenger = [\n",
    "    22, #age\n",
    "    0, #sex_female\n",
    "    1, #sex_male\n",
    "    0, #embarked_C\n",
    "    0, #embarked_Q\n",
    "    1, #embarked_S \n",
    "]\n",
    "\n",
    "# Make prediction \n",
    "predict_passenger = model.predict([passenger])\n",
    "predict_passenger"
   ]
  },
  {
   "cell_type": "code",
   "execution_count": 10,
   "id": "1312e0b1",
   "metadata": {},
   "outputs": [
    {
     "name": "stdout",
     "output_type": "stream",
     "text": [
      "survived\n",
      "0    424\n",
      "1    288\n",
      "Name: count, dtype: int64\n"
     ]
    }
   ],
   "source": [
    "# count of values in the survived column\n",
    "print(df['survived'].value_counts())"
   ]
  },
  {
   "cell_type": "code",
   "execution_count": null,
   "id": "7dd67371",
   "metadata": {},
   "outputs": [],
   "source": []
  }
 ],
 "metadata": {
  "kernelspec": {
   "display_name": "Python 3 (ipykernel)",
   "language": "python",
   "name": "python3"
  },
  "language_info": {
   "codemirror_mode": {
    "name": "ipython",
    "version": 3
   },
   "file_extension": ".py",
   "mimetype": "text/x-python",
   "name": "python",
   "nbconvert_exporter": "python",
   "pygments_lexer": "ipython3",
   "version": "3.11.5"
  }
 },
 "nbformat": 4,
 "nbformat_minor": 5
}
